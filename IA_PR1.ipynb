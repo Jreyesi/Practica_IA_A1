{
 "cells": [
  {
   "cell_type": "code",
   "execution_count": null,
   "id": "7d7fbe51",
   "metadata": {},
   "outputs": [],
   "source": [
    "import pandas as pd\n",
    "import matplotlib.pyplot as plt\n",
    "\n",
    "planeta=['Mercurio','Venus','Tierra','Marte','Júpiter','Saturno','Urano','Neptuno','Plutón']\n",
    "lugar=[1,2,3,4,5,6,7,8,9]\n",
    "masa=[0.06,0.82,1.00,0.11,318,95.1,14.6,17.2,0.002]\n",
    "datos={'Planeta':planeta,'Posición':lugar,'Masa':masa}\n",
    "planetas_ss=pd.DataFrame(datos)\n",
    "planetas_ss"
   ]
  },
  {
   "cell_type": "code",
   "execution_count": null,
   "id": "8fa86efb",
   "metadata": {},
   "outputs": [],
   "source": [
    "for etiqueta, fila in planetas_ss.iterrows():\n",
    "    print(etiqueta)\n",
    "    print(fila)"
   ]
  },
  {
   "cell_type": "code",
   "execution_count": null,
   "id": "e8338be0",
   "metadata": {},
   "outputs": [],
   "source": [
    "nombre=['Paco','Juan','Andrés','Natalia','Vanesa','Miriam','Juan']\n",
    "color=['rojo','verde','amarillo','verde','verde','rojo','amarillo']\n",
    "edad=[24,30,41,22,31,35,22]\n",
    "altura=[182,170,169,183,178,172,164]\n",
    "peso=[74.8,70.1,60.0,75.0,83.9,76.2,68.0]\n",
    "puntuacion=[83,500,20,865,221,413,902]\n",
    "datos={'Nombres':nombre,'Color':color,'Edad':edad,'Peso':peso,'Puntuación':puntuacion}\n",
    "registro=pd.DataFrame(datos)\n",
    "registro"
   ]
  },
  {
   "cell_type": "code",
   "execution_count": null,
   "id": "a493aebd",
   "metadata": {},
   "outputs": [],
   "source": [
    "plt.plot(registro.iloc[:,2])\n",
    "plt.title('Edad')\n",
    "plt.show()"
   ]
  },
  {
   "cell_type": "code",
   "execution_count": null,
   "id": "4df3e63e",
   "metadata": {},
   "outputs": [],
   "source": [
    "plt.scatter(registro['Edad'],registro['Peso'])\n",
    "plt.title('Edad vs Peso')\n",
    "plt.show()"
   ]
  },
  {
   "cell_type": "code",
   "execution_count": null,
   "id": "94eb8b83",
   "metadata": {},
   "outputs": [],
   "source": [
    "paises=['China','India','Estados Unidos', 'Indonesia', 'Brazil']\n",
    "poblaciones=[1.36,1.29,0.33,0.26,0.2]\n",
    "datos={'Paises':paises, 'Poblacion':poblaciones}\n",
    "poblacion=pd.DataFrame(datos)\n",
    "poblacion.index=['CH','IN','USA','ID','BR']\n",
    "poblacion "
   ]
  },
  {
   "cell_type": "code",
   "execution_count": null,
   "id": "3971db40",
   "metadata": {},
   "outputs": [],
   "source": [
    "for etiqueta, fila in poblacion.iterrows():\n",
    "    print(etiqueta)\n",
    "    print(fila)"
   ]
  },
  {
   "cell_type": "code",
   "execution_count": null,
   "id": "5d08202d",
   "metadata": {},
   "outputs": [],
   "source": [
    "for etiqueta, fila in poblacion.iterrows():\n",
    "    print(etiqueta+':'+fila['Paises'])"
   ]
  },
  {
   "cell_type": "code",
   "execution_count": null,
   "id": "f97dd855",
   "metadata": {},
   "outputs": [],
   "source": [
    "data=pd.read_csv('dataset1.csv',index_col=0)\n",
    "data"
   ]
  },
  {
   "cell_type": "code",
   "execution_count": null,
   "id": "487f4dcb",
   "metadata": {},
   "outputs": [],
   "source": [
    "plt.hist(data.iloc[:,0])\n",
    "plt.title('Distribución del largo del sepalo en cm')\n",
    "plt.show()"
   ]
  },
  {
   "cell_type": "code",
   "execution_count": null,
   "id": "f93ee388",
   "metadata": {},
   "outputs": [],
   "source": [
    "plt.hist(data.iloc[:,1])\n",
    "plt.title('Distribución del ancho del sepalo en cm')\n",
    "plt.show()"
   ]
  },
  {
   "cell_type": "code",
   "execution_count": null,
   "id": "2fdee1e7",
   "metadata": {},
   "outputs": [],
   "source": [
    "plt.scatter(data['PetalLengthCm'],data['PetalWidthCm'])\n",
    "plt.title('Dimensiones de los petalos')\n",
    "plt.show()"
   ]
  },
  {
   "cell_type": "code",
   "execution_count": null,
   "id": "23ff1a44",
   "metadata": {},
   "outputs": [],
   "source": [
    "indices=data[data['PetalLengthCm']>=2.5].index\n",
    "data.loc[indices,'Tamaño']='Grande'\n",
    "data.loc[indices,'Color']='r'\n",
    "indices=data[data['PetalLengthCm']<2.5].index\n",
    "data.loc[indices,'Tamaño']='Pequeño'\n",
    "data.loc[indices,'Color']='b'\n",
    "data"
   ]
  },
  {
   "cell_type": "code",
   "execution_count": null,
   "id": "fdc31f40",
   "metadata": {},
   "outputs": [],
   "source": [
    "plt.scatter(data['PetalLengthCm'],data['PetalWidthCm'],c=data.loc[:,'Color'])\n",
    "plt.title('Dimensiones de Petalos')\n",
    "plt.show()"
   ]
  }
 ],
 "metadata": {
  "kernelspec": {
   "display_name": "Python 3",
   "language": "python",
   "name": "python3"
  },
  "language_info": {
   "name": "python",
   "version": "3.13.7"
  }
 },
 "nbformat": 4,
 "nbformat_minor": 5
}
