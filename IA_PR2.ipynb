{
  "nbformat": 4,
  "nbformat_minor": 0,
  "metadata": {
    "colab": {
      "provenance": []
    },
    "kernelspec": {
      "name": "python3",
      "display_name": "Python 3"
    },
    "language_info": {
      "name": "python"
    }
  },
  "cells": [
    {
      "cell_type": "markdown",
      "source": [
        "\n",
        "# Algoritmo de Dijkstra"
      ],
      "metadata": {
        "id": "Uql1Sr73wRTR"
      }
    },
    {
      "cell_type": "code",
      "source": [
        "import heapq\n",
        "\n",
        "def dijkstra(grafo, inicio):\n",
        "  # Distancias iniciales: infinito para todos menos el nodo de inicio\n",
        "  distancias = {nodo: float('inf') for nodo in grafo}\n",
        "  distancias[inicio] = 0\n",
        "\n",
        "  # Cola de prioridad para elegir el nodo más cercano\n",
        "  cola_prioridad = [(0, inicio)]\n",
        "\n",
        "  while cola_prioridad:\n",
        "    distancia_actual, nodo_actual = heapq.heappop(cola_prioridad)\n",
        "\n",
        "    # Si encontramos una distancia mayor, no es óptima y la ignoramos\n",
        "    if distancia_actual > distancias[nodo_actual]:\n",
        "      continue\n",
        "\n",
        "    # Explorar vecinos\n",
        "    for vecino, peso in grafo[nodo_actual].items():\n",
        "      distancia = distancia_actual + peso\n",
        "\n",
        "      # Si encontramos una ruta más corta, actualizamos\n",
        "      if distancia < distancias[vecino]:\n",
        "        distancias[vecino] = distancia\n",
        "        heapq.heappush(cola_prioridad, (distancia, vecino))\n",
        "\n",
        "  return distancias\n",
        "\n",
        "grafo = {\n",
        "    'A': {'B': 2, 'C': 5},\n",
        "    'B': {'A': 2, 'C': 6, 'D': 1},\n",
        "    'C': {'A': 5, 'B': 6, 'D': 2, 'E': 5},\n",
        "    'D': {'B': 1, 'C': 2, 'E': 1},\n",
        "    'E': {'C': 5, 'D': 1}\n",
        "}\n",
        "\n",
        "resultado = dijkstra(grafo, 'A')\n",
        "\n",
        "print(\"Distancias mínimas desde A:\")\n",
        "for nodo, distancia in resultado.items():\n",
        "  print(f\"Nodo {nodo}: {distancia}\")"
      ],
      "metadata": {
        "colab": {
          "base_uri": "https://localhost:8080/"
        },
        "id": "ysFSn58swTgk",
        "outputId": "20f70130-5f43-407b-85be-af9f8d9a63f8"
      },
      "execution_count": 3,
      "outputs": [
        {
          "output_type": "stream",
          "name": "stdout",
          "text": [
            "Distancias mínimas desde A:\n",
            "Nodo A: 0\n",
            "Nodo B: 2\n",
            "Nodo C: 5\n",
            "Nodo D: 3\n",
            "Nodo E: 4\n"
          ]
        }
      ]
    },
    {
      "cell_type": "markdown",
      "source": [
        "#Algoritmo de Floyd-Warshall\n"
      ],
      "metadata": {
        "id": "g3YJHlzXwn9g"
      }
    },
    {
      "cell_type": "code",
      "source": [
        "def floyd_warshall(grafo):\n",
        "  # Número de nodos\n",
        "  nodos = list(grafo.keys())\n",
        "  n = len(nodos)\n",
        "  # Inicializar matriz de distancias\n",
        "  dist = [[float('inf')] * n for _ in range(n)]\n",
        "  # Distancia a sí mismo = 0\n",
        "  for i in range(n):\n",
        "    dist[i][i] = 0\n",
        "  # Llenar con valores del grafo\n",
        "  for u in grafo:\n",
        "    for v, peso in grafo[u].items():\n",
        "      dist[nodos.index(u)][nodos.index(v)] = peso\n",
        "  # Algoritmo principal\n",
        "  for k in range(n):\n",
        "    for i in range(n):\n",
        "      for j in range(n):\n",
        "        if dist[i][k] + dist[k][j] < dist[i][j]:\n",
        "          dist[i][j] = dist[i][k] + dist[k][j]\n",
        "  # Mostrar resultado\n",
        "  print(\"Matriz de distancias mínimas:\")\n",
        "  for fila in dist:\n",
        "    print(fila)\n",
        "# Grafo de ejemplo\n",
        "grafo = {\n",
        "    'A': {'B': 3, 'C': 8},\n",
        "    'B': {'C': 2, 'D': 5},\n",
        "    'C': {'D': 1},\n",
        "    'D': {'A': 2}\n",
        "}\n",
        "floyd_warshall(grafo)"
      ],
      "metadata": {
        "colab": {
          "base_uri": "https://localhost:8080/"
        },
        "id": "rS3CGnRcwoNx",
        "outputId": "aea512d0-7a5a-4f39-cbef-58665f40475a"
      },
      "execution_count": 5,
      "outputs": [
        {
          "output_type": "stream",
          "name": "stdout",
          "text": [
            "Matriz de distancias mínimas:\n",
            "[0, 3, 5, 6]\n",
            "[5, 0, 2, 3]\n",
            "[3, 6, 0, 1]\n",
            "[2, 5, 7, 0]\n"
          ]
        }
      ]
    },
    {
      "cell_type": "markdown",
      "source": [
        "Búsqueda en Anchura (BFS)"
      ],
      "metadata": {
        "id": "RMnwK3Niw6qg"
      }
    },
    {
      "cell_type": "code",
      "source": [
        "from collections import deque\n",
        "\n",
        "def bfs(grafo, inicio, meta):\n",
        "  visitados = set()\n",
        "  cola = deque([[inicio]])\n",
        "\n",
        "  while cola:\n",
        "    camino = cola.popleft()\n",
        "    nodo = camino[-1]\n",
        "\n",
        "    if nodo == meta:\n",
        "      return camino\n",
        "\n",
        "    if nodo not in visitados:\n",
        "      for vecino in grafo[nodo]:\n",
        "        nuevo_camino = list(camino)\n",
        "        nuevo_camino.append(vecino)\n",
        "        cola.append(nuevo_camino)\n",
        "      visitados.add(nodo)\n",
        "\n",
        "  return None\n",
        "\n",
        "# Grafo de ejemplo\n",
        "grafo = {\n",
        "    'A': ['B', 'C'],\n",
        "    'B': ['A', 'D', 'E'],\n",
        "    'C': ['A', 'F'],\n",
        "    'D': ['B'],\n",
        "    'E': ['B', 'F'],\n",
        "    'F': ['C', 'E']\n",
        "}\n",
        "\n",
        "print(\"Camino BFS de A a F:\", bfs(grafo, 'A', 'F'))"
      ],
      "metadata": {
        "colab": {
          "base_uri": "https://localhost:8080/"
        },
        "id": "liIz1o1cw9AB",
        "outputId": "f451511d-7800-4176-828a-06d268051b60"
      },
      "execution_count": 7,
      "outputs": [
        {
          "output_type": "stream",
          "name": "stdout",
          "text": [
            "Camino BFS de A a F: ['A', 'C', 'F']\n"
          ]
        }
      ]
    }
  ]
}