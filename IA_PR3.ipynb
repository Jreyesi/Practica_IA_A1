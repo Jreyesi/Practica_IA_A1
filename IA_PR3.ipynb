{
  "nbformat": 4,
  "nbformat_minor": 0,
  "metadata": {
    "colab": {
      "provenance": []
    },
    "kernelspec": {
      "name": "python3",
      "display_name": "Python 3"
    },
    "language_info": {
      "name": "python"
    }
  },
  "cells": [
    {
      "cell_type": "markdown",
      "source": [
        "##INCERTIDUMBRE Y PROBABILIDAD"
      ],
      "metadata": {
        "id": "qMuLxtaJj9fr"
      }
    },
    {
      "cell_type": "code",
      "source": [
        "import random"
      ],
      "metadata": {
        "id": "moOOhuEnkIsr"
      },
      "execution_count": 1,
      "outputs": []
    },
    {
      "cell_type": "code",
      "execution_count": 2,
      "metadata": {
        "colab": {
          "base_uri": "https://localhost:8080/"
        },
        "id": "3E5IuJ3tjdmB",
        "outputId": "511e074b-d80e-4d65-893e-51a772ba93cf"
      },
      "outputs": [
        {
          "output_type": "stream",
          "name": "stdout",
          "text": [
            "Tiradas: [1, 4, 6, 6, 6, 3, 4, 5, 4, 4]\n",
            "Veces que salió >4: 4\n",
            "Probabilidad estimada: 0.40\n"
          ]
        }
      ],
      "source": [
        "\n",
        "# Simular 10 tiradas de un dado\n",
        "tiradas = [random.randint(1, 6) for _ in range(10)]\n",
        "print(\"Tiradas:\", tiradas)\n",
        "# Calcular probabilidad de obtener un número mayor a 4\n",
        "exitos = sum(1 for t in tiradas if t > 4)\n",
        "probabilidad = exitos / len(tiradas)\n",
        "print(f\"Veces que salió >4: {exitos}\")\n",
        "print(f\"Probabilidad estimada: {probabilidad:.2f}\")"
      ]
    },
    {
      "cell_type": "markdown",
      "source": [
        "#FUNCIONES DE PERTENENCIA\n"
      ],
      "metadata": {
        "id": "FlXkJwbWkOQP"
      }
    },
    {
      "cell_type": "code",
      "source": [
        "def triangular(x, a, b, c):\n",
        "\n",
        "  if x <= a or x >= c:\n",
        "    return 0\n",
        "  elif a < x < b:\n",
        "    return (x - a) / (b - a)\n",
        "  elif b <= x < c:\n",
        "    return (c - x) / (c - b)\n",
        "  else:\n",
        "    return 0\n",
        "# Ejemplo: temperatura cálida en [15, 25, 35]\n",
        "temperatura = 25\n",
        "grado = triangular(temperatura, 15, 25, 35)\n",
        "print(f\"Grado de pertenencia de {temperatura}°C a 'cálida': {grado:.2f}\")"
      ],
      "metadata": {
        "colab": {
          "base_uri": "https://localhost:8080/"
        },
        "id": "MvWVjcQ0klH7",
        "outputId": "0e9faf2d-53e0-43d2-eb5b-895f1fde3a56"
      },
      "execution_count": 5,
      "outputs": [
        {
          "output_type": "stream",
          "name": "stdout",
          "text": [
            "Grado de pertenencia de 25°C a 'cálida': 1.00\n"
          ]
        }
      ]
    },
    {
      "cell_type": "markdown",
      "source": [
        "#Defuzificación por Método del Centroide\n"
      ],
      "metadata": {
        "id": "vNVPeXZCk4UJ"
      }
    },
    {
      "cell_type": "code",
      "source": [
        "# Valores y sus grados de pertenencia\n",
        "valores = [10, 20, 30]\n",
        "grados = [0.2, 0.5, 0.8]\n",
        "# Fórmula del centroide: (Σ µ(x) * x) / (Σ µ(x))\n",
        "numerador = sum(mu * x for mu, x in zip(grados, valores))\n",
        "denominador = sum(grados)\n",
        "centroide = numerador / denominador\n",
        "print(\"Valores:\", valores)\n",
        "print(\"Grados de pertenencia:\", grados)\n",
        "print(f\"Valor defuzificado (centroide): {centroide:.2f}\")"
      ],
      "metadata": {
        "colab": {
          "base_uri": "https://localhost:8080/"
        },
        "id": "PVCtBHMNk6Dl",
        "outputId": "aafd9c1b-faf0-4adc-9ce6-6b2dcac11ee4"
      },
      "execution_count": 6,
      "outputs": [
        {
          "output_type": "stream",
          "name": "stdout",
          "text": [
            "Valores: [10, 20, 30]\n",
            "Grados de pertenencia: [0.2, 0.5, 0.8]\n",
            "Valor defuzificado (centroide): 24.00\n"
          ]
        }
      ]
    }
  ]
}